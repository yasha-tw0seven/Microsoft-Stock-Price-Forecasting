{
 "cells": [
  {
   "cell_type": "code",
   "execution_count": 122,
   "id": "bce67c5b",
   "metadata": {},
   "outputs": [],
   "source": [
    "import pandas as pd\n",
    "import numpy as np\n",
    "import matplotlib.pyplot as plt\n",
    "from statsmodels.tsa.stattools import adfuller\n",
    "from sklearn.model_selection import train_test_split\n",
    "from sklearn.ensemble import RandomForestRegressor\n",
    "from sklearn.metrics import mean_squared_error\n",
    "from sklearn.ensemble import AdaBoostRegressor\n",
    "import matplotlib.pyplot as plt\n",
    "from sklearn.svm import SVR\n",
    "import datetime\n",
    "from sklearn.tree import DecisionTreeClassifier\n",
    "from sklearn.metrics import confusion_matrix\n",
    "from sklearn.metrics import precision_recall_fscore_support \n",
    "\n",
    "from sklearn.metrics import accuracy_score, precision_recall_fscore_support, confusion_matrix\n",
    "from sklearn.tree import DecisionTreeClassifier\n",
    "from sklearn.model_selection import train_test_split\n",
    "import numpy as np\n"
   ]
  },
  {
   "cell_type": "code",
   "execution_count": 123,
   "id": "8a5f2217",
   "metadata": {},
   "outputs": [],
   "source": [
    "df = pd.read_csv(\"/Users/godipally.shivakumar/Desktop/msft.csv\")"
   ]
  },
  {
   "cell_type": "code",
   "execution_count": 124,
   "id": "5ff6d06c",
   "metadata": {},
   "outputs": [
    {
     "data": {
      "text/html": [
       "<div>\n",
       "<style scoped>\n",
       "    .dataframe tbody tr th:only-of-type {\n",
       "        vertical-align: middle;\n",
       "    }\n",
       "\n",
       "    .dataframe tbody tr th {\n",
       "        vertical-align: top;\n",
       "    }\n",
       "\n",
       "    .dataframe thead th {\n",
       "        text-align: right;\n",
       "    }\n",
       "</style>\n",
       "<table border=\"1\" class=\"dataframe\">\n",
       "  <thead>\n",
       "    <tr style=\"text-align: right;\">\n",
       "      <th></th>\n",
       "      <th>Date</th>\n",
       "      <th>Open</th>\n",
       "      <th>High</th>\n",
       "      <th>Low</th>\n",
       "      <th>Close</th>\n",
       "      <th>Adj Close</th>\n",
       "      <th>Volume</th>\n",
       "    </tr>\n",
       "  </thead>\n",
       "  <tbody>\n",
       "    <tr>\n",
       "      <th>0</th>\n",
       "      <td>2023-01-03</td>\n",
       "      <td>243.080002</td>\n",
       "      <td>245.750000</td>\n",
       "      <td>237.399994</td>\n",
       "      <td>239.580002</td>\n",
       "      <td>238.981430</td>\n",
       "      <td>25740000</td>\n",
       "    </tr>\n",
       "    <tr>\n",
       "      <th>1</th>\n",
       "      <td>2023-01-04</td>\n",
       "      <td>232.279999</td>\n",
       "      <td>232.869995</td>\n",
       "      <td>225.960007</td>\n",
       "      <td>229.100006</td>\n",
       "      <td>228.527618</td>\n",
       "      <td>50623400</td>\n",
       "    </tr>\n",
       "    <tr>\n",
       "      <th>2</th>\n",
       "      <td>2023-01-05</td>\n",
       "      <td>227.199997</td>\n",
       "      <td>227.550003</td>\n",
       "      <td>221.759995</td>\n",
       "      <td>222.309998</td>\n",
       "      <td>221.754562</td>\n",
       "      <td>39585600</td>\n",
       "    </tr>\n",
       "    <tr>\n",
       "      <th>3</th>\n",
       "      <td>2023-01-06</td>\n",
       "      <td>223.000000</td>\n",
       "      <td>225.759995</td>\n",
       "      <td>219.350006</td>\n",
       "      <td>224.929993</td>\n",
       "      <td>224.368011</td>\n",
       "      <td>43613600</td>\n",
       "    </tr>\n",
       "    <tr>\n",
       "      <th>4</th>\n",
       "      <td>2023-01-09</td>\n",
       "      <td>226.449997</td>\n",
       "      <td>231.240005</td>\n",
       "      <td>226.410004</td>\n",
       "      <td>227.119995</td>\n",
       "      <td>226.552551</td>\n",
       "      <td>27369800</td>\n",
       "    </tr>\n",
       "  </tbody>\n",
       "</table>\n",
       "</div>"
      ],
      "text/plain": [
       "         Date        Open        High         Low       Close   Adj Close  \\\n",
       "0  2023-01-03  243.080002  245.750000  237.399994  239.580002  238.981430   \n",
       "1  2023-01-04  232.279999  232.869995  225.960007  229.100006  228.527618   \n",
       "2  2023-01-05  227.199997  227.550003  221.759995  222.309998  221.754562   \n",
       "3  2023-01-06  223.000000  225.759995  219.350006  224.929993  224.368011   \n",
       "4  2023-01-09  226.449997  231.240005  226.410004  227.119995  226.552551   \n",
       "\n",
       "     Volume  \n",
       "0  25740000  \n",
       "1  50623400  \n",
       "2  39585600  \n",
       "3  43613600  \n",
       "4  27369800  "
      ]
     },
     "execution_count": 124,
     "metadata": {},
     "output_type": "execute_result"
    }
   ],
   "source": [
    "df.head()"
   ]
  },
  {
   "cell_type": "code",
   "execution_count": 125,
   "id": "37fb0de6",
   "metadata": {},
   "outputs": [
    {
     "data": {
      "text/plain": [
       "0          NaN\n",
       "1    -0.043743\n",
       "2    -0.029638\n",
       "3     0.011785\n",
       "4     0.009736\n",
       "        ...   \n",
       "68    0.002334\n",
       "69    0.022399\n",
       "70   -0.012766\n",
       "71    0.009296\n",
       "72   -0.001489\n",
       "Name: gainorloss, Length: 73, dtype: float64"
      ]
     },
     "execution_count": 125,
     "metadata": {},
     "output_type": "execute_result"
    }
   ],
   "source": [
    "df['gainorloss'] = df['Adj Close'].pct_change()\n",
    "df['gainorloss']"
   ]
  },
  {
   "cell_type": "code",
   "execution_count": 126,
   "id": "453aa26f",
   "metadata": {},
   "outputs": [],
   "source": [
    "# up_down function for catogorizing the values  as 0 and 1 for up and down column respectively \n",
    "def up_down(row):\n",
    "    if row['gainorloss'] > 0:\n",
    "        row['up'] = 1\n",
    "        \n",
    "    elif row['gainorloss'] < 0:\n",
    "        row['up'] = 0\n",
    "        \n",
    "    else:\n",
    "        row['up'] = 'NaN'\n",
    "        \n",
    "    return row\n",
    "\n",
    "\n",
    "df = df.apply(up_down, axis=1)"
   ]
  },
  {
   "cell_type": "code",
   "execution_count": 127,
   "id": "f1a77cfb",
   "metadata": {},
   "outputs": [
    {
     "data": {
      "text/html": [
       "<div>\n",
       "<style scoped>\n",
       "    .dataframe tbody tr th:only-of-type {\n",
       "        vertical-align: middle;\n",
       "    }\n",
       "\n",
       "    .dataframe tbody tr th {\n",
       "        vertical-align: top;\n",
       "    }\n",
       "\n",
       "    .dataframe thead th {\n",
       "        text-align: right;\n",
       "    }\n",
       "</style>\n",
       "<table border=\"1\" class=\"dataframe\">\n",
       "  <thead>\n",
       "    <tr style=\"text-align: right;\">\n",
       "      <th></th>\n",
       "      <th>Date</th>\n",
       "      <th>Open</th>\n",
       "      <th>High</th>\n",
       "      <th>Low</th>\n",
       "      <th>Close</th>\n",
       "      <th>Adj Close</th>\n",
       "      <th>Volume</th>\n",
       "      <th>gainorloss</th>\n",
       "      <th>up</th>\n",
       "    </tr>\n",
       "  </thead>\n",
       "  <tbody>\n",
       "    <tr>\n",
       "      <th>0</th>\n",
       "      <td>2023-01-03</td>\n",
       "      <td>243.080002</td>\n",
       "      <td>245.750000</td>\n",
       "      <td>237.399994</td>\n",
       "      <td>239.580002</td>\n",
       "      <td>238.981430</td>\n",
       "      <td>25740000</td>\n",
       "      <td>NaN</td>\n",
       "      <td>NaN</td>\n",
       "    </tr>\n",
       "    <tr>\n",
       "      <th>1</th>\n",
       "      <td>2023-01-04</td>\n",
       "      <td>232.279999</td>\n",
       "      <td>232.869995</td>\n",
       "      <td>225.960007</td>\n",
       "      <td>229.100006</td>\n",
       "      <td>228.527618</td>\n",
       "      <td>50623400</td>\n",
       "      <td>-0.043743</td>\n",
       "      <td>0</td>\n",
       "    </tr>\n",
       "    <tr>\n",
       "      <th>2</th>\n",
       "      <td>2023-01-05</td>\n",
       "      <td>227.199997</td>\n",
       "      <td>227.550003</td>\n",
       "      <td>221.759995</td>\n",
       "      <td>222.309998</td>\n",
       "      <td>221.754562</td>\n",
       "      <td>39585600</td>\n",
       "      <td>-0.029638</td>\n",
       "      <td>0</td>\n",
       "    </tr>\n",
       "    <tr>\n",
       "      <th>3</th>\n",
       "      <td>2023-01-06</td>\n",
       "      <td>223.000000</td>\n",
       "      <td>225.759995</td>\n",
       "      <td>219.350006</td>\n",
       "      <td>224.929993</td>\n",
       "      <td>224.368011</td>\n",
       "      <td>43613600</td>\n",
       "      <td>0.011785</td>\n",
       "      <td>1</td>\n",
       "    </tr>\n",
       "    <tr>\n",
       "      <th>4</th>\n",
       "      <td>2023-01-09</td>\n",
       "      <td>226.449997</td>\n",
       "      <td>231.240005</td>\n",
       "      <td>226.410004</td>\n",
       "      <td>227.119995</td>\n",
       "      <td>226.552551</td>\n",
       "      <td>27369800</td>\n",
       "      <td>0.009736</td>\n",
       "      <td>1</td>\n",
       "    </tr>\n",
       "  </tbody>\n",
       "</table>\n",
       "</div>"
      ],
      "text/plain": [
       "         Date        Open        High         Low       Close   Adj Close  \\\n",
       "0  2023-01-03  243.080002  245.750000  237.399994  239.580002  238.981430   \n",
       "1  2023-01-04  232.279999  232.869995  225.960007  229.100006  228.527618   \n",
       "2  2023-01-05  227.199997  227.550003  221.759995  222.309998  221.754562   \n",
       "3  2023-01-06  223.000000  225.759995  219.350006  224.929993  224.368011   \n",
       "4  2023-01-09  226.449997  231.240005  226.410004  227.119995  226.552551   \n",
       "\n",
       "     Volume  gainorloss   up  \n",
       "0  25740000         NaN  NaN  \n",
       "1  50623400   -0.043743    0  \n",
       "2  39585600   -0.029638    0  \n",
       "3  43613600    0.011785    1  \n",
       "4  27369800    0.009736    1  "
      ]
     },
     "execution_count": 127,
     "metadata": {},
     "output_type": "execute_result"
    }
   ],
   "source": [
    "df.head()"
   ]
  },
  {
   "cell_type": "code",
   "execution_count": 128,
   "id": "f7556c9c",
   "metadata": {},
   "outputs": [
    {
     "name": "stdout",
     "output_type": "stream",
     "text": [
      "657\n"
     ]
    }
   ],
   "source": [
    "print(df.size)"
   ]
  },
  {
   "cell_type": "code",
   "execution_count": 129,
   "id": "c1e88130",
   "metadata": {},
   "outputs": [],
   "source": [
    "df['up'] = pd.to_numeric(df['up'], errors='coerce')"
   ]
  },
  {
   "cell_type": "code",
   "execution_count": 130,
   "id": "486e803d",
   "metadata": {},
   "outputs": [
    {
     "name": "stdout",
     "output_type": "stream",
     "text": [
      "<class 'pandas.core.frame.DataFrame'>\n",
      "RangeIndex: 73 entries, 0 to 72\n",
      "Data columns (total 9 columns):\n",
      " #   Column      Non-Null Count  Dtype  \n",
      "---  ------      --------------  -----  \n",
      " 0   Date        73 non-null     object \n",
      " 1   Open        73 non-null     float64\n",
      " 2   High        73 non-null     float64\n",
      " 3   Low         73 non-null     float64\n",
      " 4   Close       73 non-null     float64\n",
      " 5   Adj Close   73 non-null     float64\n",
      " 6   Volume      73 non-null     int64  \n",
      " 7   gainorloss  72 non-null     float64\n",
      " 8   up          72 non-null     float64\n",
      "dtypes: float64(7), int64(1), object(1)\n",
      "memory usage: 5.3+ KB\n"
     ]
    }
   ],
   "source": [
    "df.info()"
   ]
  },
  {
   "cell_type": "code",
   "execution_count": 131,
   "id": "4896563d",
   "metadata": {},
   "outputs": [],
   "source": [
    "#converting date column into datetime data type\n",
    "df['Date']= pd.to_datetime(df['Date'])\n"
   ]
  },
  {
   "cell_type": "code",
   "execution_count": 132,
   "id": "d7065955",
   "metadata": {},
   "outputs": [
    {
     "name": "stdout",
     "output_type": "stream",
     "text": [
      "Total null values: 2\n"
     ]
    }
   ],
   "source": [
    "# check for null values in the entire data frame\n",
    "total_nulls = df.isnull().sum().sum()\n",
    "\n",
    "# print the results\n",
    "print(f\"Total null values: {total_nulls}\")\n"
   ]
  },
  {
   "cell_type": "code",
   "execution_count": 133,
   "id": "a15f8567",
   "metadata": {},
   "outputs": [],
   "source": [
    "df.dropna(inplace = True)"
   ]
  },
  {
   "cell_type": "code",
   "execution_count": 134,
   "id": "c7211e4d",
   "metadata": {},
   "outputs": [
    {
     "data": {
      "text/plain": [
       "Text(0, 0.5, 'Adj Close')"
      ]
     },
     "execution_count": 134,
     "metadata": {},
     "output_type": "execute_result"
    },
    {
     "data": {
      "image/png": "[encoded data removed]",
      "text/plain": [
       "<Figure size 720x360 with 1 Axes>"
      ]
     },
     "metadata": {
      "needs_background": "light"
     },
     "output_type": "display_data"
    }
   ],
   "source": [
    "plt.figure(figsize=(10,5))\n",
    "df['Adj Close'].plot()\n",
    "plt.ylabel('Adj Close')"
   ]
  },
  {
   "cell_type": "code",
   "execution_count": 135,
   "id": "01369cf6",
   "metadata": {},
   "outputs": [],
   "source": [
    "#The purpose of plotting the above closing price of a stock is to visualize the historical trend of the stock's value over time. \n",
    "#This can provide insights into the stock's performance, including its overall direction (whether it's been trending upward, downward, or staying relatively stable)\n",
    "#the magnitude and frequency of its price changes, and any notable events or trends that may have affected its value.\n",
    "\n",
    "#By analyzing the plot of closing prices over time, investors and traders can make informed decisions about:\n",
    "#buying, selling, or holding the stock. They may also use technical analysis techniques \n",
    "#to identify patterns or trends in the plot that can inform their trading strategies.\n",
    "\n",
    "\n"
   ]
  },
  {
   "cell_type": "markdown",
   "id": "9cd02303",
   "metadata": {},
   "source": [
    "# From the chart, we can see that there is an upward trend. \n",
    "#This indicates that the closing price of the stocks has been consistently increasing over the given period of time.\n"
   ]
  },
  {
   "cell_type": "code",
   "execution_count": 136,
   "id": "05c83717",
   "metadata": {},
   "outputs": [
    {
     "data": {
      "text/plain": [
       "<matplotlib.legend.Legend at 0x7f847a152640>"
      ]
     },
     "execution_count": 136,
     "metadata": {},
     "output_type": "execute_result"
    },
    {
     "data": {
      "image/png": "[encoded data removed]",
      "text/plain": [
       "<Figure size 720x360 with 1 Axes>"
      ]
     },
     "metadata": {
      "needs_background": "light"
     },
     "output_type": "display_data"
    }
   ],
   "source": [
    "#Finding the moving average of the stocks price and standard deviation \n",
    "\n",
    "close = df['Adj Close']\n",
    "ma = close.rolling(window= 10).mean()  #Window =10 i:e for the last 10 days \n",
    "std= close.rolling(window=10).std()  \n",
    "\n",
    "\n",
    "#Plotting the averagre and standrad deviation \n",
    "plt.figure(figsize=(10,5))\n",
    "\n",
    "\n",
    "df['Adj Close'].plot(color='b',label=' ADJ Close')\n",
    "ma.plot(color='r',label='ROLLING MEAN')\n",
    "std.plot(label= 'STANDARD DEVIATION')\n",
    "\n",
    "\n",
    "plt.legend()"
   ]
  },
  {
   "cell_type": "code",
   "execution_count": 137,
   "id": "a8590bcb",
   "metadata": {},
   "outputs": [],
   "source": [
    "#The purpose of plotting the above graph is to see how the stocks are performing over a specific time period. \n",
    "#The rolling standard deviation is a measure of the volatility or variability of the data over time, and high standard deviation values indicate that the stock price is more volatile, while low values indicate that it is more stable.\n",
    "\n",
    "#Volatility is calculated by measuring the distance between the stock prices and their standard deviation. \n",
    "#When stock prices are highly volatile, they are subject to rapid changes in response to various market and economic factors. \n",
    "#While high volatility can create opportunities for profit, it can also increase the risk of loss."
   ]
  },
  {
   "cell_type": "code",
   "execution_count": 138,
   "id": "0c7af90e",
   "metadata": {},
   "outputs": [
    {
     "data": {
      "text/plain": [
       "Text(0.5, 1.0, 'RETURNS')"
      ]
     },
     "execution_count": 138,
     "metadata": {},
     "output_type": "execute_result"
    },
    {
     "data": {
      "image/png": "[encoded data removed]",
      "text/plain": [
       "<Figure size 720x504 with 1 Axes>"
      ]
     },
     "metadata": {
      "needs_background": "light"
     },
     "output_type": "display_data"
    }
   ],
   "source": [
    "#PLOTTING RETURNS\n",
    "\n",
    "returns = close/close.shift(1)-1\n",
    "\n",
    "\n",
    "plt.figure(figsize=(10,7))\n",
    "returns.plot(label=\"RETURN\", color='green')\n",
    "plt.title(\"RETURNS\")"
   ]
  },
  {
   "cell_type": "code",
   "execution_count": 139,
   "id": "0e2550d2",
   "metadata": {},
   "outputs": [
    {
     "data": {
      "text/html": [
       "<div>\n",
       "<style scoped>\n",
       "    .dataframe tbody tr th:only-of-type {\n",
       "        vertical-align: middle;\n",
       "    }\n",
       "\n",
       "    .dataframe tbody tr th {\n",
       "        vertical-align: top;\n",
       "    }\n",
       "\n",
       "    .dataframe thead th {\n",
       "        text-align: right;\n",
       "    }\n",
       "</style>\n",
       "<table border=\"1\" class=\"dataframe\">\n",
       "  <thead>\n",
       "    <tr style=\"text-align: right;\">\n",
       "      <th></th>\n",
       "      <th>created_at</th>\n",
       "      <th>positive_tweets</th>\n",
       "      <th>negative_tweets</th>\n",
       "      <th>neutral_tweets</th>\n",
       "      <th>total_retweets</th>\n",
       "      <th>total_likes</th>\n",
       "      <th>total_views</th>\n",
       "      <th>total_replies</th>\n",
       "      <th>total_tweets</th>\n",
       "      <th>adjusted_score</th>\n",
       "    </tr>\n",
       "  </thead>\n",
       "  <tbody>\n",
       "    <tr>\n",
       "      <th>0</th>\n",
       "      <td>2023-01-01</td>\n",
       "      <td>48</td>\n",
       "      <td>191</td>\n",
       "      <td>224</td>\n",
       "      <td>697</td>\n",
       "      <td>1761</td>\n",
       "      <td>360478.0</td>\n",
       "      <td>143</td>\n",
       "      <td>463</td>\n",
       "      <td>-0.308855</td>\n",
       "    </tr>\n",
       "    <tr>\n",
       "      <th>1</th>\n",
       "      <td>2023-01-02</td>\n",
       "      <td>9</td>\n",
       "      <td>10</td>\n",
       "      <td>8</td>\n",
       "      <td>232</td>\n",
       "      <td>1164</td>\n",
       "      <td>278363.0</td>\n",
       "      <td>86</td>\n",
       "      <td>27</td>\n",
       "      <td>-0.037037</td>\n",
       "    </tr>\n",
       "    <tr>\n",
       "      <th>2</th>\n",
       "      <td>2023-01-03</td>\n",
       "      <td>26</td>\n",
       "      <td>39</td>\n",
       "      <td>20</td>\n",
       "      <td>107</td>\n",
       "      <td>977</td>\n",
       "      <td>325810.0</td>\n",
       "      <td>76</td>\n",
       "      <td>85</td>\n",
       "      <td>-0.152941</td>\n",
       "    </tr>\n",
       "    <tr>\n",
       "      <th>3</th>\n",
       "      <td>2023-01-04</td>\n",
       "      <td>12</td>\n",
       "      <td>62</td>\n",
       "      <td>44</td>\n",
       "      <td>723</td>\n",
       "      <td>8163</td>\n",
       "      <td>2753033.0</td>\n",
       "      <td>320</td>\n",
       "      <td>118</td>\n",
       "      <td>-0.423729</td>\n",
       "    </tr>\n",
       "    <tr>\n",
       "      <th>4</th>\n",
       "      <td>2023-01-05</td>\n",
       "      <td>13</td>\n",
       "      <td>32</td>\n",
       "      <td>37</td>\n",
       "      <td>52633</td>\n",
       "      <td>152237</td>\n",
       "      <td>18672371.0</td>\n",
       "      <td>1200</td>\n",
       "      <td>82</td>\n",
       "      <td>-0.231707</td>\n",
       "    </tr>\n",
       "    <tr>\n",
       "      <th>...</th>\n",
       "      <td>...</td>\n",
       "      <td>...</td>\n",
       "      <td>...</td>\n",
       "      <td>...</td>\n",
       "      <td>...</td>\n",
       "      <td>...</td>\n",
       "      <td>...</td>\n",
       "      <td>...</td>\n",
       "      <td>...</td>\n",
       "      <td>...</td>\n",
       "    </tr>\n",
       "    <tr>\n",
       "      <th>104</th>\n",
       "      <td>2023-04-15</td>\n",
       "      <td>2</td>\n",
       "      <td>15</td>\n",
       "      <td>6</td>\n",
       "      <td>4</td>\n",
       "      <td>18</td>\n",
       "      <td>8282.0</td>\n",
       "      <td>6</td>\n",
       "      <td>23</td>\n",
       "      <td>-0.565217</td>\n",
       "    </tr>\n",
       "    <tr>\n",
       "      <th>105</th>\n",
       "      <td>2023-04-16</td>\n",
       "      <td>1</td>\n",
       "      <td>11</td>\n",
       "      <td>7</td>\n",
       "      <td>150</td>\n",
       "      <td>919</td>\n",
       "      <td>371581.0</td>\n",
       "      <td>8</td>\n",
       "      <td>19</td>\n",
       "      <td>-0.526316</td>\n",
       "    </tr>\n",
       "    <tr>\n",
       "      <th>106</th>\n",
       "      <td>2023-04-17</td>\n",
       "      <td>13</td>\n",
       "      <td>28</td>\n",
       "      <td>138</td>\n",
       "      <td>251</td>\n",
       "      <td>1827</td>\n",
       "      <td>4700403.0</td>\n",
       "      <td>163</td>\n",
       "      <td>179</td>\n",
       "      <td>-0.083799</td>\n",
       "    </tr>\n",
       "    <tr>\n",
       "      <th>107</th>\n",
       "      <td>2023-04-18</td>\n",
       "      <td>147</td>\n",
       "      <td>533</td>\n",
       "      <td>746</td>\n",
       "      <td>31007</td>\n",
       "      <td>253780</td>\n",
       "      <td>16597483.0</td>\n",
       "      <td>8102</td>\n",
       "      <td>1426</td>\n",
       "      <td>-0.270687</td>\n",
       "    </tr>\n",
       "    <tr>\n",
       "      <th>108</th>\n",
       "      <td>2023-04-19</td>\n",
       "      <td>99</td>\n",
       "      <td>318</td>\n",
       "      <td>337</td>\n",
       "      <td>1421</td>\n",
       "      <td>6119</td>\n",
       "      <td>3035858.0</td>\n",
       "      <td>905</td>\n",
       "      <td>754</td>\n",
       "      <td>-0.290451</td>\n",
       "    </tr>\n",
       "  </tbody>\n",
       "</table>\n",
       "<p>109 rows × 10 columns</p>\n",
       "</div>"
      ],
      "text/plain": [
       "     created_at  positive_tweets  negative_tweets  neutral_tweets  \\\n",
       "0    2023-01-01               48              191             224   \n",
       "1    2023-01-02                9               10               8   \n",
       "2    2023-01-03               26               39              20   \n",
       "3    2023-01-04               12               62              44   \n",
       "4    2023-01-05               13               32              37   \n",
       "..          ...              ...              ...             ...   \n",
       "104  2023-04-15                2               15               6   \n",
       "105  2023-04-16                1               11               7   \n",
       "106  2023-04-17               13               28             138   \n",
       "107  2023-04-18              147              533             746   \n",
       "108  2023-04-19               99              318             337   \n",
       "\n",
       "     total_retweets  total_likes  total_views  total_replies  total_tweets  \\\n",
       "0               697         1761     360478.0            143           463   \n",
       "1               232         1164     278363.0             86            27   \n",
       "2               107          977     325810.0             76            85   \n",
       "3               723         8163    2753033.0            320           118   \n",
       "4             52633       152237   18672371.0           1200            82   \n",
       "..              ...          ...          ...            ...           ...   \n",
       "104               4           18       8282.0              6            23   \n",
       "105             150          919     371581.0              8            19   \n",
       "106             251         1827    4700403.0            163           179   \n",
       "107           31007       253780   16597483.0           8102          1426   \n",
       "108            1421         6119    3035858.0            905           754   \n",
       "\n",
       "     adjusted_score  \n",
       "0         -0.308855  \n",
       "1         -0.037037  \n",
       "2         -0.152941  \n",
       "3         -0.423729  \n",
       "4         -0.231707  \n",
       "..              ...  \n",
       "104       -0.565217  \n",
       "105       -0.526316  \n",
       "106       -0.083799  \n",
       "107       -0.270687  \n",
       "108       -0.290451  \n",
       "\n",
       "[109 rows x 10 columns]"
      ]
     },
     "execution_count": 139,
     "metadata": {},
     "output_type": "execute_result"
    }
   ],
   "source": [
    "\n",
    "df_news = pd.read_csv('/Users/godipally.shivakumar/Desktop/Processed_tweets.csv')\n",
    "\n",
    "df_news"
   ]
  },
  {
   "cell_type": "code",
   "execution_count": 140,
   "id": "eedcc9de",
   "metadata": {},
   "outputs": [
    {
     "name": "stdout",
     "output_type": "stream",
     "text": [
      "<class 'pandas.core.frame.DataFrame'>\n",
      "RangeIndex: 109 entries, 0 to 108\n",
      "Data columns (total 10 columns):\n",
      " #   Column           Non-Null Count  Dtype  \n",
      "---  ------           --------------  -----  \n",
      " 0   created_at       109 non-null    object \n",
      " 1   positive_tweets  109 non-null    int64  \n",
      " 2   negative_tweets  109 non-null    int64  \n",
      " 3   neutral_tweets   109 non-null    int64  \n",
      " 4   total_retweets   109 non-null    int64  \n",
      " 5   total_likes      109 non-null    int64  \n",
      " 6   total_views      109 non-null    float64\n",
      " 7   total_replies    109 non-null    int64  \n",
      " 8   total_tweets     109 non-null    int64  \n",
      " 9   adjusted_score   109 non-null    float64\n",
      "dtypes: float64(2), int64(7), object(1)\n",
      "memory usage: 8.6+ KB\n"
     ]
    }
   ],
   "source": [
    "df_news.info()"
   ]
  },
  {
   "cell_type": "code",
   "execution_count": 141,
   "id": "7de3943f",
   "metadata": {},
   "outputs": [
    {
     "name": "stdout",
     "output_type": "stream",
     "text": [
      "Date          datetime64[ns]\n",
      "Open                 float64\n",
      "High                 float64\n",
      "Low                  float64\n",
      "Close                float64\n",
      "Adj Close            float64\n",
      "Volume                 int64\n",
      "gainorloss           float64\n",
      "up                   float64\n",
      "dtype: object\n"
     ]
    }
   ],
   "source": [
    "# Convert \"created_at\" to datetime data type\n",
    "df_news ['created_at'] = pd.to_datetime(df_news ['created_at'])\n",
    "\n",
    "# Verify the data type conversion\n",
    "print(df.dtypes)"
   ]
  },
  {
   "cell_type": "code",
   "execution_count": 142,
   "id": "31128b19",
   "metadata": {},
   "outputs": [
    {
     "data": {
      "text/plain": [
       "<AxesSubplot:>"
      ]
     },
     "execution_count": 142,
     "metadata": {},
     "output_type": "execute_result"
    },
    {
     "data": {
      "image/png": "[encoded data removed]",
      "text/plain": [
       "<Figure size 720x432 with 1 Axes>"
      ]
     },
     "metadata": {
      "needs_background": "light"
     },
     "output_type": "display_data"
    }
   ],
   "source": [
    "plt.figure(figsize = (10,6))\n",
    "df_news['adjusted_score'].hist(color = 'purple')"
   ]
  },
  {
   "cell_type": "code",
   "execution_count": 143,
   "id": "fd90fa72",
   "metadata": {},
   "outputs": [],
   "source": [
    "#The above plot i did is too see the frequency distribution of the adjusted_score"
   ]
  },
  {
   "cell_type": "code",
   "execution_count": 144,
   "id": "71bba478",
   "metadata": {},
   "outputs": [],
   "source": [
    "df_news = df_news.rename(columns={'created_at': 'Date'})\n"
   ]
  },
  {
   "cell_type": "code",
   "execution_count": 145,
   "id": "a644c592",
   "metadata": {},
   "outputs": [
    {
     "data": {
      "text/html": [
       "<div>\n",
       "<style scoped>\n",
       "    .dataframe tbody tr th:only-of-type {\n",
       "        vertical-align: middle;\n",
       "    }\n",
       "\n",
       "    .dataframe tbody tr th {\n",
       "        vertical-align: top;\n",
       "    }\n",
       "\n",
       "    .dataframe thead th {\n",
       "        text-align: right;\n",
       "    }\n",
       "</style>\n",
       "<table border=\"1\" class=\"dataframe\">\n",
       "  <thead>\n",
       "    <tr style=\"text-align: right;\">\n",
       "      <th></th>\n",
       "      <th>Date</th>\n",
       "      <th>Open</th>\n",
       "      <th>High</th>\n",
       "      <th>Low</th>\n",
       "      <th>Close</th>\n",
       "      <th>Adj Close</th>\n",
       "      <th>Volume</th>\n",
       "      <th>gainorloss</th>\n",
       "      <th>up</th>\n",
       "      <th>positive_tweets</th>\n",
       "      <th>negative_tweets</th>\n",
       "      <th>neutral_tweets</th>\n",
       "      <th>total_retweets</th>\n",
       "      <th>total_likes</th>\n",
       "      <th>total_views</th>\n",
       "      <th>total_replies</th>\n",
       "      <th>total_tweets</th>\n",
       "      <th>adjusted_score</th>\n",
       "    </tr>\n",
       "  </thead>\n",
       "  <tbody>\n",
       "    <tr>\n",
       "      <th>0</th>\n",
       "      <td>2023-01-04</td>\n",
       "      <td>232.279999</td>\n",
       "      <td>232.869995</td>\n",
       "      <td>225.960007</td>\n",
       "      <td>229.100006</td>\n",
       "      <td>228.527618</td>\n",
       "      <td>50623400</td>\n",
       "      <td>-0.043743</td>\n",
       "      <td>0.0</td>\n",
       "      <td>12</td>\n",
       "      <td>62</td>\n",
       "      <td>44</td>\n",
       "      <td>723</td>\n",
       "      <td>8163</td>\n",
       "      <td>2753033.0</td>\n",
       "      <td>320</td>\n",
       "      <td>118</td>\n",
       "      <td>-0.423729</td>\n",
       "    </tr>\n",
       "    <tr>\n",
       "      <th>1</th>\n",
       "      <td>2023-01-05</td>\n",
       "      <td>227.199997</td>\n",
       "      <td>227.550003</td>\n",
       "      <td>221.759995</td>\n",
       "      <td>222.309998</td>\n",
       "      <td>221.754562</td>\n",
       "      <td>39585600</td>\n",
       "      <td>-0.029638</td>\n",
       "      <td>0.0</td>\n",
       "      <td>13</td>\n",
       "      <td>32</td>\n",
       "      <td>37</td>\n",
       "      <td>52633</td>\n",
       "      <td>152237</td>\n",
       "      <td>18672371.0</td>\n",
       "      <td>1200</td>\n",
       "      <td>82</td>\n",
       "      <td>-0.231707</td>\n",
       "    </tr>\n",
       "    <tr>\n",
       "      <th>2</th>\n",
       "      <td>2023-01-06</td>\n",
       "      <td>223.000000</td>\n",
       "      <td>225.759995</td>\n",
       "      <td>219.350006</td>\n",
       "      <td>224.929993</td>\n",
       "      <td>224.368011</td>\n",
       "      <td>43613600</td>\n",
       "      <td>0.011785</td>\n",
       "      <td>1.0</td>\n",
       "      <td>59</td>\n",
       "      <td>250</td>\n",
       "      <td>228</td>\n",
       "      <td>2470</td>\n",
       "      <td>30462</td>\n",
       "      <td>2449484.0</td>\n",
       "      <td>910</td>\n",
       "      <td>537</td>\n",
       "      <td>-0.355680</td>\n",
       "    </tr>\n",
       "    <tr>\n",
       "      <th>3</th>\n",
       "      <td>2023-01-09</td>\n",
       "      <td>226.449997</td>\n",
       "      <td>231.240005</td>\n",
       "      <td>226.410004</td>\n",
       "      <td>227.119995</td>\n",
       "      <td>226.552551</td>\n",
       "      <td>27369800</td>\n",
       "      <td>0.009736</td>\n",
       "      <td>1.0</td>\n",
       "      <td>158</td>\n",
       "      <td>614</td>\n",
       "      <td>609</td>\n",
       "      <td>4476</td>\n",
       "      <td>27984</td>\n",
       "      <td>3092065.0</td>\n",
       "      <td>2491</td>\n",
       "      <td>1381</td>\n",
       "      <td>-0.330196</td>\n",
       "    </tr>\n",
       "    <tr>\n",
       "      <th>4</th>\n",
       "      <td>2023-01-10</td>\n",
       "      <td>227.759995</td>\n",
       "      <td>231.309998</td>\n",
       "      <td>227.330002</td>\n",
       "      <td>228.850006</td>\n",
       "      <td>228.278229</td>\n",
       "      <td>27033900</td>\n",
       "      <td>0.007617</td>\n",
       "      <td>1.0</td>\n",
       "      <td>11</td>\n",
       "      <td>51</td>\n",
       "      <td>31</td>\n",
       "      <td>7993</td>\n",
       "      <td>53375</td>\n",
       "      <td>19669637.0</td>\n",
       "      <td>2133</td>\n",
       "      <td>93</td>\n",
       "      <td>-0.430108</td>\n",
       "    </tr>\n",
       "    <tr>\n",
       "      <th>...</th>\n",
       "      <td>...</td>\n",
       "      <td>...</td>\n",
       "      <td>...</td>\n",
       "      <td>...</td>\n",
       "      <td>...</td>\n",
       "      <td>...</td>\n",
       "      <td>...</td>\n",
       "      <td>...</td>\n",
       "      <td>...</td>\n",
       "      <td>...</td>\n",
       "      <td>...</td>\n",
       "      <td>...</td>\n",
       "      <td>...</td>\n",
       "      <td>...</td>\n",
       "      <td>...</td>\n",
       "      <td>...</td>\n",
       "      <td>...</td>\n",
       "      <td>...</td>\n",
       "    </tr>\n",
       "    <tr>\n",
       "      <th>67</th>\n",
       "      <td>2023-04-12</td>\n",
       "      <td>284.790009</td>\n",
       "      <td>287.010010</td>\n",
       "      <td>281.959991</td>\n",
       "      <td>283.489990</td>\n",
       "      <td>283.489990</td>\n",
       "      <td>27403400</td>\n",
       "      <td>0.002334</td>\n",
       "      <td>1.0</td>\n",
       "      <td>264</td>\n",
       "      <td>823</td>\n",
       "      <td>1095</td>\n",
       "      <td>4157</td>\n",
       "      <td>28029</td>\n",
       "      <td>25753458.0</td>\n",
       "      <td>8297</td>\n",
       "      <td>2182</td>\n",
       "      <td>-0.256187</td>\n",
       "    </tr>\n",
       "    <tr>\n",
       "      <th>68</th>\n",
       "      <td>2023-04-13</td>\n",
       "      <td>283.589996</td>\n",
       "      <td>289.899994</td>\n",
       "      <td>283.170013</td>\n",
       "      <td>289.839996</td>\n",
       "      <td>289.839996</td>\n",
       "      <td>24222700</td>\n",
       "      <td>0.022399</td>\n",
       "      <td>1.0</td>\n",
       "      <td>352</td>\n",
       "      <td>1152</td>\n",
       "      <td>1289</td>\n",
       "      <td>2728</td>\n",
       "      <td>12495</td>\n",
       "      <td>6858156.0</td>\n",
       "      <td>1317</td>\n",
       "      <td>2793</td>\n",
       "      <td>-0.286430</td>\n",
       "    </tr>\n",
       "    <tr>\n",
       "      <th>69</th>\n",
       "      <td>2023-04-14</td>\n",
       "      <td>287.000000</td>\n",
       "      <td>288.480011</td>\n",
       "      <td>283.690002</td>\n",
       "      <td>286.140015</td>\n",
       "      <td>286.140015</td>\n",
       "      <td>20973900</td>\n",
       "      <td>-0.012766</td>\n",
       "      <td>0.0</td>\n",
       "      <td>12</td>\n",
       "      <td>10</td>\n",
       "      <td>34</td>\n",
       "      <td>718</td>\n",
       "      <td>4178</td>\n",
       "      <td>15791911.0</td>\n",
       "      <td>1284</td>\n",
       "      <td>56</td>\n",
       "      <td>0.035714</td>\n",
       "    </tr>\n",
       "    <tr>\n",
       "      <th>70</th>\n",
       "      <td>2023-04-17</td>\n",
       "      <td>289.929993</td>\n",
       "      <td>291.600006</td>\n",
       "      <td>286.160004</td>\n",
       "      <td>288.799988</td>\n",
       "      <td>288.799988</td>\n",
       "      <td>23836200</td>\n",
       "      <td>0.009296</td>\n",
       "      <td>1.0</td>\n",
       "      <td>13</td>\n",
       "      <td>28</td>\n",
       "      <td>138</td>\n",
       "      <td>251</td>\n",
       "      <td>1827</td>\n",
       "      <td>4700403.0</td>\n",
       "      <td>163</td>\n",
       "      <td>179</td>\n",
       "      <td>-0.083799</td>\n",
       "    </tr>\n",
       "    <tr>\n",
       "      <th>71</th>\n",
       "      <td>2023-04-18</td>\n",
       "      <td>291.570007</td>\n",
       "      <td>291.760010</td>\n",
       "      <td>287.010010</td>\n",
       "      <td>288.369995</td>\n",
       "      <td>288.369995</td>\n",
       "      <td>20161800</td>\n",
       "      <td>-0.001489</td>\n",
       "      <td>0.0</td>\n",
       "      <td>147</td>\n",
       "      <td>533</td>\n",
       "      <td>746</td>\n",
       "      <td>31007</td>\n",
       "      <td>253780</td>\n",
       "      <td>16597483.0</td>\n",
       "      <td>8102</td>\n",
       "      <td>1426</td>\n",
       "      <td>-0.270687</td>\n",
       "    </tr>\n",
       "  </tbody>\n",
       "</table>\n",
       "<p>72 rows × 18 columns</p>\n",
       "</div>"
      ],
      "text/plain": [
       "         Date        Open        High         Low       Close   Adj Close  \\\n",
       "0  2023-01-04  232.279999  232.869995  225.960007  229.100006  228.527618   \n",
       "1  2023-01-05  227.199997  227.550003  221.759995  222.309998  221.754562   \n",
       "2  2023-01-06  223.000000  225.759995  219.350006  224.929993  224.368011   \n",
       "3  2023-01-09  226.449997  231.240005  226.410004  227.119995  226.552551   \n",
       "4  2023-01-10  227.759995  231.309998  227.330002  228.850006  228.278229   \n",
       "..        ...         ...         ...         ...         ...         ...   \n",
       "67 2023-04-12  284.790009  287.010010  281.959991  283.489990  283.489990   \n",
       "68 2023-04-13  283.589996  289.899994  283.170013  289.839996  289.839996   \n",
       "69 2023-04-14  287.000000  288.480011  283.690002  286.140015  286.140015   \n",
       "70 2023-04-17  289.929993  291.600006  286.160004  288.799988  288.799988   \n",
       "71 2023-04-18  291.570007  291.760010  287.010010  288.369995  288.369995   \n",
       "\n",
       "      Volume  gainorloss   up  positive_tweets  negative_tweets  \\\n",
       "0   50623400   -0.043743  0.0               12               62   \n",
       "1   39585600   -0.029638  0.0               13               32   \n",
       "2   43613600    0.011785  1.0               59              250   \n",
       "3   27369800    0.009736  1.0              158              614   \n",
       "4   27033900    0.007617  1.0               11               51   \n",
       "..       ...         ...  ...              ...              ...   \n",
       "67  27403400    0.002334  1.0              264              823   \n",
       "68  24222700    0.022399  1.0              352             1152   \n",
       "69  20973900   -0.012766  0.0               12               10   \n",
       "70  23836200    0.009296  1.0               13               28   \n",
       "71  20161800   -0.001489  0.0              147              533   \n",
       "\n",
       "    neutral_tweets  total_retweets  total_likes  total_views  total_replies  \\\n",
       "0               44             723         8163    2753033.0            320   \n",
       "1               37           52633       152237   18672371.0           1200   \n",
       "2              228            2470        30462    2449484.0            910   \n",
       "3              609            4476        27984    3092065.0           2491   \n",
       "4               31            7993        53375   19669637.0           2133   \n",
       "..             ...             ...          ...          ...            ...   \n",
       "67            1095            4157        28029   25753458.0           8297   \n",
       "68            1289            2728        12495    6858156.0           1317   \n",
       "69              34             718         4178   15791911.0           1284   \n",
       "70             138             251         1827    4700403.0            163   \n",
       "71             746           31007       253780   16597483.0           8102   \n",
       "\n",
       "    total_tweets  adjusted_score  \n",
       "0            118       -0.423729  \n",
       "1             82       -0.231707  \n",
       "2            537       -0.355680  \n",
       "3           1381       -0.330196  \n",
       "4             93       -0.430108  \n",
       "..           ...             ...  \n",
       "67          2182       -0.256187  \n",
       "68          2793       -0.286430  \n",
       "69            56        0.035714  \n",
       "70           179       -0.083799  \n",
       "71          1426       -0.270687  \n",
       "\n",
       "[72 rows x 18 columns]"
      ]
     },
     "execution_count": 145,
     "metadata": {},
     "output_type": "execute_result"
    }
   ],
   "source": [
    "df_merge = pd.merge(df, df_news, how='inner', on='Date')\n",
    "df_merge"
   ]
  },
  {
   "cell_type": "code",
   "execution_count": 146,
   "id": "8df8082a",
   "metadata": {},
   "outputs": [],
   "source": [
    "#X = df_merge.drop('Close', axis=1)\n",
    "#y =df_merge['Close']"
   ]
  },
  {
   "cell_type": "code",
   "execution_count": 147,
   "id": "22806ac5",
   "metadata": {},
   "outputs": [],
   "source": [
    "#x_train, x_test, y_train, y_test = train_test_split(X, y, test_size=0.2, random_state = 0)\n",
    "#x_train.shape"
   ]
  },
  {
   "cell_type": "code",
   "execution_count": 148,
   "id": "f4cf692a",
   "metadata": {},
   "outputs": [],
   "source": [
    "X = df_merge.drop(['Adj Close', 'Date','Open','High','Low','Close','Volume','gainorloss'], axis=1) # droped the column\n",
    "y = df_merge['Adj Close']\n",
    "\n",
    "# Splitting the dataset into train and test\n",
    "x_train, x_test, y_train, y_test = train_test_split(X, y, test_size=0.2, random_state=0)\n"
   ]
  },
  {
   "cell_type": "code",
   "execution_count": 149,
   "id": "763824f4",
   "metadata": {},
   "outputs": [],
   "source": [
    "rf = RandomForestRegressor()\n",
    "rf.fit(x_train, y_train)\n",
    "prediction=rf.predict(x_test)"
   ]
  },
  {
   "cell_type": "code",
   "execution_count": 150,
   "id": "3c2dce30",
   "metadata": {},
   "outputs": [
    {
     "name": "stdout",
     "output_type": "stream",
     "text": [
      "[242.2135304  256.48875511 265.75341713 259.62279472 259.42130771\n",
      " 280.71179951 251.94907716 275.41974654 254.82943353 248.52572978]\n",
      "26    262.442657\n",
      "27    270.642120\n",
      "48    265.440002\n",
      "22    256.128448\n",
      "30    262.149994\n",
      "51    272.230011\n",
      "7     238.632294\n",
      "59    284.049988\n",
      "34    254.770004\n",
      "71    288.369995\n",
      "Name: Adj Close, dtype: float64\n",
      "240.3325262816754\n"
     ]
    }
   ],
   "source": [
    "print(prediction[:10])\n",
    "print(y_test[:10])\n",
    "print(mean_squared_error(prediction,y_test))"
   ]
  },
  {
   "cell_type": "code",
   "execution_count": 151,
   "id": "d7821d82",
   "metadata": {},
   "outputs": [],
   "source": [
    "adb = AdaBoostRegressor()\n",
    "adb.fit(x_train, y_train)\n",
    "predictions = adb.predict(x_test)"
   ]
  },
  {
   "cell_type": "code",
   "execution_count": 152,
   "id": "9f58bb0a",
   "metadata": {},
   "outputs": [
    {
     "name": "stdout",
     "output_type": "stream",
     "text": [
      "Predictions: [242.4633894  264.76415638 275.347504   259.9200545  263.92304989\n",
      " 276.604996   243.77769547 274.945007   259.79996478 255.671244  ]\n",
      "Actual values: 26    262.442657\n",
      "27    270.642120\n",
      "48    265.440002\n",
      "22    256.128448\n",
      "30    262.149994\n",
      "51    272.230011\n",
      "7     238.632294\n",
      "59    284.049988\n",
      "34    254.770004\n",
      "71    288.369995\n",
      "Name: Adj Close, dtype: float64\n",
      "Mean Squared Error (MSE): 179.302170480852\n",
      "R-squared score: -0.12005642750294476\n"
     ]
    }
   ],
   "source": [
    "\n",
    "\n",
    "predictions = adb.predict(x_test)\n",
    "\n",
    "print(\"Predictions:\", predictions[:10])\n",
    "print(\"Actual values:\", y_test[:10])\n",
    "print(\"Mean Squared Error (MSE):\", mean_squared_error(predictions, y_test))\n",
    "print(\"R-squared score:\", adb.score(x_test, y_test))\n",
    "\n"
   ]
  },
  {
   "cell_type": "code",
   "execution_count": 153,
   "id": "80d04108",
   "metadata": {},
   "outputs": [],
   "source": [
    "from sklearn.tree import DecisionTreeRegressor\n",
    "dec_tree = DecisionTreeRegressor()\n",
    "dec_tree.fit(x_train, y_train)\n",
    "predictions = dec_tree.predict(x_test)"
   ]
  },
  {
   "cell_type": "code",
   "execution_count": 154,
   "id": "1063367f",
   "metadata": {},
   "outputs": [
    {
     "name": "stdout",
     "output_type": "stream",
     "text": [
      "[247.539993 260.790009 289.390015 286.140015 239.749512 289.390015\n",
      " 256.869995 283.48999  273.779999 235.22084 ]\n",
      "26    262.442657\n",
      "27    270.642120\n",
      "48    265.440002\n",
      "22    256.128448\n",
      "30    262.149994\n",
      "51    272.230011\n",
      "7     238.632294\n",
      "59    284.049988\n",
      "34    254.770004\n",
      "71    288.369995\n",
      "Name: Adj Close, dtype: float64\n",
      "569.0067413562986\n",
      "Accuracy of Decision Tree model: -2.5544447467616593\n"
     ]
    }
   ],
   "source": [
    "print(predictions[:10])\n",
    "print(y_test[:10])\n",
    "print(mean_squared_error(predictions,y_test))\n",
    "print(\"Accuracy of Decision Tree model:\", dec_tree.score(x_test, y_test))"
   ]
  },
  {
   "cell_type": "code",
   "execution_count": 155,
   "id": "a5a6f6ae",
   "metadata": {
    "scrolled": true
   },
   "outputs": [
    {
     "data": {
      "image/png": "[encoded data removed]",
      "text/plain": [
       "<Figure size 432x288 with 1 Axes>"
      ]
     },
     "metadata": {
      "needs_background": "light"
     },
     "output_type": "display_data"
    }
   ],
   "source": [
    "\n",
    "plt.scatter(y_test, predictions)\n",
    "plt.plot(y_test, y_test, color='red')\n",
    "plt.xlabel('True Values')\n",
    "plt.ylabel('Predictions')\n",
    "plt.show() "
   ]
  },
  {
   "cell_type": "code",
   "execution_count": 156,
   "id": "6fabb39c",
   "metadata": {},
   "outputs": [],
   "source": [
    "#In the scatter plot, the x-axis represents the true values (actual stock prices) \n",
    "#and the y-axis represents the predicted values (predicted stock prices)\n",
    "#The red line represents the regression line, which shows the expected relationship between the true and predicted values \n",
    "#if they were perfectly correlated. The scatter points that lie along this line represent the predictions that are perfectly accurate. \n",
    "#Points above the line indicate that the model overestimated the true value, while points below the line indicate that the model underestimated the true value."
   ]
  },
  {
   "cell_type": "code",
   "execution_count": 157,
   "id": "c878932d",
   "metadata": {},
   "outputs": [
    {
     "name": "stdout",
     "output_type": "stream",
     "text": [
      "Root Mean Squared Error (RMSE) of SVM model: 15.70136370672913\n"
     ]
    }
   ],
   "source": [
    "\n",
    "\n",
    "# Create SVM regressor object\n",
    "svm = SVR(kernel='rbf')\n",
    "\n",
    "# Train the model using the training sets\n",
    "\n",
    "svm.fit(x_train, y_train)\n",
    "\n",
    "# Predict the prices of test data\n",
    "\n",
    "svm_predictions = svm.predict(x_test)\n",
    "\n",
    "# Calculate root mean squared error\n",
    "svm_rmse = mean_squared_error(y_test, svm_predictions, squared=False)\n",
    "\n",
    "print(\"Root Mean Squared Error (RMSE) of SVM model:\", svm_rmse)\n",
    "\n"
   ]
  },
  {
   "cell_type": "code",
   "execution_count": 166,
   "id": "43f0e165",
   "metadata": {},
   "outputs": [
    {
     "ename": "TypeError",
     "evalue": "'method' object is not subscriptable",
     "output_type": "error",
     "traceback": [
      "\u001b[0;31m---------------------------------------------------------------------------\u001b[0m",
      "\u001b[0;31mTypeError\u001b[0m                                 Traceback (most recent call last)",
      "Input \u001b[0;32mIn [166]\u001b[0m, in \u001b[0;36m<cell line: 1>\u001b[0;34m()\u001b[0m\n\u001b[0;32m----> 1\u001b[0m df1 \u001b[38;5;241m=\u001b[39m \u001b[43mdf_merge\u001b[49m\u001b[38;5;241;43m.\u001b[39;49m\u001b[43mdrop\u001b[49m\u001b[43m[\u001b[49m\u001b[38;5;124;43m'\u001b[39;49m\u001b[38;5;124;43mDate\u001b[39;49m\u001b[38;5;124;43m'\u001b[39;49m\u001b[43m,\u001b[49m\u001b[38;5;124;43m'\u001b[39;49m\u001b[38;5;124;43mAdj Close\u001b[39;49m\u001b[38;5;124;43m'\u001b[39;49m\u001b[43m,\u001b[49m\u001b[38;5;124;43m'\u001b[39;49m\u001b[38;5;124;43mOpen\u001b[39;49m\u001b[38;5;124;43m'\u001b[39;49m\u001b[43m,\u001b[49m\u001b[38;5;124;43m'\u001b[39;49m\u001b[38;5;124;43mHigh\u001b[39;49m\u001b[38;5;124;43m'\u001b[39;49m\u001b[43m,\u001b[49m\u001b[38;5;124;43m'\u001b[39;49m\u001b[38;5;124;43mLow\u001b[39;49m\u001b[38;5;124;43m'\u001b[39;49m\u001b[43m,\u001b[49m\u001b[38;5;124;43m'\u001b[39;49m\u001b[38;5;124;43mClose\u001b[39;49m\u001b[38;5;124;43m'\u001b[39;49m\u001b[43m,\u001b[49m\u001b[38;5;124;43m'\u001b[39;49m\u001b[38;5;124;43mVolume\u001b[39;49m\u001b[38;5;124;43m'\u001b[39;49m\u001b[43m,\u001b[49m\u001b[38;5;124;43m'\u001b[39;49m\u001b[38;5;124;43mgainorloss\u001b[39;49m\u001b[38;5;124;43m'\u001b[39;49m\u001b[43m]\u001b[49m\n\u001b[1;32m      5\u001b[0m \u001b[38;5;66;03m# create the feature matrix X and target variable y\u001b[39;00m\n\u001b[1;32m      6\u001b[0m X \u001b[38;5;241m=\u001b[39m df1\u001b[38;5;241m.\u001b[39mdrop(\u001b[38;5;124m'\u001b[39m\u001b[38;5;124mup\u001b[39m\u001b[38;5;124m'\u001b[39m, axis\u001b[38;5;241m=\u001b[39m\u001b[38;5;241m1\u001b[39m)\n",
      "\u001b[0;31mTypeError\u001b[0m: 'method' object is not subscriptable"
     ]
    }
   ],
   "source": [
    "df1 = df_merge.drop['Date','Adj Close','Open','High','Low','Close','Volume','gainorloss']\n",
    "\n",
    "\n",
    "\n",
    "# create the feature matrix X and target variable y\n",
    "X = df1.drop('up', axis=1)\n",
    "y = df1['up']\n",
    "\n",
    "# split the data into training and testing sets\n",
    "X_train, X_test, y_train, y_test = train_test_split(X, y, test_size=0.2, random_state=42)\n",
    "\n",
    "# create the decision tree classifier and fit it to the training data\n",
    "dtc = DecisionTreeClassifier()\n",
    "dtc.fit(X_train, y_train)\n",
    "\n",
    "# make predictions on the testing data\n",
    "y_pred = dtc.predict(X_test)\n",
    "\n",
    "# calculate the accuracy score of the predictions\n",
    "accuracy = accuracy_score(y_test, y_pred)\n",
    "print(f\"Accuracy: {accuracy}\")\n",
    "\n",
    "\n",
    "# calculate the precision, recall, and F1 score\n",
    "precision, recall, f1_score, support = precision_recall_fscore_support(y_test, y_pred)\n",
    "\n",
    "print(f\"Precision: {precision}\")\n",
    "print(f\"Recall: {recall}\")\n",
    "print(f\"F1 Score: {f1_score}\")\n",
    "\n",
    "\n",
    "# create the confusion matrix with labels\n",
    "cm = confusion_matrix(y_test, y_pred, labels=np.unique(y))\n",
    "print(\"Confusion Matrix:\")\n",
    "print(\"                 Predicted\")\n",
    "print(\"           Negative Positive\")\n",
    "print(f\"Actual Negative {cm[0, 0]}       {cm[0, 1]}\")\n",
    "print(f\"       Positive {cm[1, 0]}       {cm[1, 1]}\")\n"
   ]
  },
  {
   "cell_type": "code",
   "execution_count": 169,
   "id": "a9d8a154",
   "metadata": {},
   "outputs": [
    {
     "name": "stdout",
     "output_type": "stream",
     "text": [
      "Precision: [0.375      0.57142857]\n",
      "Recall: [0.5        0.44444444]\n",
      "F1 Score: [0.42857143 0.5       ]\n"
     ]
    }
   ],
   "source": [
    "#Decesion Tree\n",
    "\n",
    "\n",
    "from sklearn.metrics import precision_recall_fscore_support\n",
    "\n",
    "\n",
    "# create the feature matrix X and target variable y\n",
    "#X = df.drop('up', axis=1)\n",
    "#y = df['up']\n",
    "\n",
    "# split the data into training and testing sets\n",
    "X_train, X_test, y_train, y_test = train_test_split(X, y, test_size=0.2, random_state=42)\n",
    "\n",
    "# create the decision tree classifier and fit it to the training data\n",
    "dtc = DecisionTreeClassifier()\n",
    "dtc.fit(X_train, y_train)\n",
    "\n",
    "# make predictions on the testing data\n",
    "y_pred = dtc.predict(X_test)\n",
    "\n",
    "# calculate the precision, recall, and F1 score\n",
    "precision, recall, f1_score, support = precision_recall_fscore_support(y_test, y_pred)\n",
    "\n",
    "print(f\"Precision: {precision}\")\n",
    "print(f\"Recall: {recall}\")\n",
    "print(f\"F1 Score: {f1_score}\")\n",
    "\n",
    "\n"
   ]
  },
  {
   "cell_type": "code",
   "execution_count": 170,
   "id": "57a1c718",
   "metadata": {},
   "outputs": [
    {
     "name": "stdout",
     "output_type": "stream",
     "text": [
      "Precision: 0.2857142857142857\n",
      "Accuracy: 0.2\n",
      "Recall: 0.2222222222222222\n"
     ]
    }
   ],
   "source": [
    "#Logistic Regression\n",
    "\n",
    "from sklearn.linear_model import LogisticRegression\n",
    "from sklearn.metrics import precision_score, accuracy_score, recall_score\n",
    "\n",
    "# create the feature matrix X and target variable y\n",
    "#X = df.drop(['up'], axis=1)\n",
    "#y = df['up']\n",
    "\n",
    "# split the data into training and testing sets\n",
    "X_train, X_test, y_train, y_test = train_test_split(X, y, test_size=0.2, random_state=42)\n",
    "\n",
    "# create the logistic regression classifier and fit it to the training data\n",
    "lr = LogisticRegression()\n",
    "lr.fit(X_train, y_train)\n",
    "\n",
    "# make predictions on the testing data\n",
    "y_pred = lr.predict(X_test)\n",
    "\n",
    "# calculate the precision score of the predictions\n",
    "precision = precision_score(y_test, y_pred)\n",
    "print(f\"Precision: {precision}\")\n",
    "\n",
    "# calculate the accuracy score of the predictions\n",
    "accuracy = accuracy_score(y_test, y_pred)\n",
    "print(f\"Accuracy: {accuracy}\")\n",
    "\n",
    "# calculate the recall score of the predictions\n",
    "recall = recall_score(y_test, y_pred)\n",
    "print(f\"Recall: {recall}\")\n"
   ]
  },
  {
   "cell_type": "code",
   "execution_count": 171,
   "id": "5c09352e",
   "metadata": {},
   "outputs": [
    {
     "name": "stdout",
     "output_type": "stream",
     "text": [
      "Mean Squared Error: 0.4194725537944572\n",
      "Mean Absolute Error: 0.6214988283510116\n",
      "R-squared: -0.7478023074769049\n"
     ]
    }
   ],
   "source": [
    "#linear regression\n",
    "\n",
    "\n",
    "from sklearn.linear_model import LinearRegression\n",
    "from sklearn.metrics import mean_squared_error, mean_absolute_error, r2_score\n",
    "\n",
    "# create the feature matrix X and target variable y\n",
    "#X = df.drop('up', axis=1)\n",
    "#y = df['up']\n",
    "\n",
    "# split the data into training and testing sets\n",
    "X_train, X_test, y_train, y_test = train_test_split(X, y, test_size=0.2, random_state=42)\n",
    "\n",
    "# create the linear regression model and fit it to the training data\n",
    "lr = LinearRegression()\n",
    "lr.fit(X_train, y_train)\n",
    "\n",
    "# make predictions on the testing data\n",
    "y_pred = lr.predict(X_test)\n",
    "\n",
    "# calculate the mean squared error of the predictions\n",
    "mse = mean_squared_error(y_test, y_pred)\n",
    "print(f\"Mean Squared Error: {mse}\")\n",
    "\n",
    "# calculate the mean absolute error of the predictions\n",
    "mae = mean_absolute_error(y_test, y_pred)\n",
    "print(f\"Mean Absolute Error: {mae}\")\n",
    "\n",
    "# calculate the R-squared score of the predictions\n",
    "r2 = r2_score(y_test, y_pred)\n",
    "print(f\"R-squared: {r2}\")\n"
   ]
  },
  {
   "cell_type": "code",
   "execution_count": 172,
   "id": "d87dc087",
   "metadata": {},
   "outputs": [
    {
     "name": "stdout",
     "output_type": "stream",
     "text": [
      "Accuracy: 0.3333333333333333\n",
      "Precision: [0.35714286 0.        ]\n",
      "Recall: [0.83333333 0.        ]\n",
      "F1-Score: [0.5 0. ]\n"
     ]
    }
   ],
   "source": [
    "#SVM classifier\n",
    "\n",
    "\n",
    "\n",
    "from sklearn.svm import SVC\n",
    "from sklearn.metrics import precision_recall_fscore_support\n",
    "\n",
    "# create the feature matrix X and target variable y\n",
    "#X = df.drop('up', axis=1)\n",
    "#y = df['up']\n",
    "\n",
    "# split the data into training and testing sets\n",
    "X_train, X_test, y_train, y_test = train_test_split(X, y, test_size=0.2, random_state=42)\n",
    "\n",
    "# create the SVM classifier and fit it to the training data\n",
    "svm = SVC()\n",
    "svm.fit(X_train, y_train)\n",
    "\n",
    "# make predictions on the testing data\n",
    "y_pred = svm.predict(X_test)\n",
    "# calculate the accuracy score of the predictions\n",
    "accuracy = accuracy_score(y_test, y_pred)\n",
    "print(f\"Accuracy: {accuracy}\")\n",
    "\n",
    "# calculate precision, recall, and f1-score\n",
    "precision, recall, f1_score, support = precision_recall_fscore_support(y_test, y_pred)\n",
    "\n",
    "# print the results\n",
    "print(f\"Precision: {precision}\")\n",
    "print(f\"Recall: {recall}\")\n",
    "print(f\"F1-Score: {f1_score}\")\n"
   ]
  },
  {
   "cell_type": "markdown",
   "id": "fe108505",
   "metadata": {},
   "source": [
    "# AUC GRAPHS "
   ]
  },
  {
   "cell_type": "code",
   "execution_count": 173,
   "id": "b67a5345",
   "metadata": {},
   "outputs": [
    {
     "data": {
      "image/png": "[encoded data removed]",
      "text/plain": [
       "<Figure size 432x288 with 1 Axes>"
      ]
     },
     "metadata": {
      "needs_background": "light"
     },
     "output_type": "display_data"
    }
   ],
   "source": [
    "#AUC for decesion tree classifier \n",
    "\n",
    "# import necessary libraries\n",
    "from sklearn.metrics import roc_curve, roc_auc_score\n",
    "import matplotlib.pyplot as plt\n",
    "\n",
    "# create the decision tree classifier and fit it to the training data\n",
    "dtc = DecisionTreeClassifier()\n",
    "dtc.fit(X_train, y_train)\n",
    "\n",
    "# calculate the predicted probabilities for the testing data\n",
    "y_pred_prob = dtc.predict_proba(X_test)[:,1]\n",
    "\n",
    "# calculate the AUC score\n",
    "auc = roc_auc_score(y_test, y_pred_prob)\n",
    "\n",
    "# calculate the ROC curve\n",
    "fpr, tpr, thresholds = roc_curve(y_test, y_pred_prob)\n",
    "\n",
    "# plot the ROC curve\n",
    "plt.plot(fpr, tpr, label='Decision Tree (AUC = %0.2f)' % auc)\n",
    "plt.plot([0, 1], [0, 1],'r--')\n",
    "plt.xlim([0, 1])\n",
    "plt.ylim([0, 1])\n",
    "plt.xlabel('False Positive Rate')\n",
    "plt.ylabel('True Positive Rate')\n",
    "plt.title('Receiver Operating Characteristic')\n",
    "plt.legend(loc=\"lower right\")\n",
    "plt.show()\n"
   ]
  },
  {
   "cell_type": "code",
   "execution_count": 174,
   "id": "770cd59b",
   "metadata": {},
   "outputs": [
    {
     "data": {
      "image/png": "[encoded data removed]",
      "text/plain": [
       "<Figure size 432x288 with 1 Axes>"
      ]
     },
     "metadata": {
      "needs_background": "light"
     },
     "output_type": "display_data"
    }
   ],
   "source": [
    "#AUC for logistic regression \n",
    "\n",
    "from sklearn.linear_model import LogisticRegression\n",
    "from sklearn.metrics import roc_curve, roc_auc_score\n",
    "import matplotlib.pyplot as plt\n",
    "\n",
    "# create the feature matrix X and target variable y\n",
    "#X = df.drop('up', axis=1)\n",
    "#y = df['up']\n",
    "\n",
    "# split the data into training and testing sets\n",
    "X_train, X_test, y_train, y_test = train_test_split(X, y, test_size=0.2, random_state=42)\n",
    "\n",
    "# create the logistic regression model and fit it to the training data\n",
    "lr = LogisticRegression()\n",
    "lr.fit(X_train, y_train)\n",
    "\n",
    "# make predictions on the testing data\n",
    "y_pred = lr.predict(X_test)\n",
    "\n",
    "# calculate the probability scores of the predictions\n",
    "y_scores = lr.predict_proba(X_test)[:, 1]\n",
    "\n",
    "# calculate the ROC curve and AUC score\n",
    "fpr, tpr, thresholds = roc_curve(y_test, y_scores)\n",
    "auc = roc_auc_score(y_test, y_scores)\n",
    "\n",
    "# plot the ROC curve\n",
    "plt.plot(fpr, tpr, label=f'AUC = {auc:.2f}')\n",
    "plt.plot([0, 1], [0, 1], 'k--')\n",
    "plt.xlabel('False Positive Rate')\n",
    "plt.ylabel('True Positive Rate')\n",
    "plt.title('ROC Curve - Logistic Regression')\n",
    "plt.legend()\n",
    "plt.show()\n",
    "\n",
    "\n",
    "\n",
    "\n"
   ]
  },
  {
   "cell_type": "code",
   "execution_count": 175,
   "id": "160d1a6a",
   "metadata": {},
   "outputs": [
    {
     "data": {
      "image/png": "[encoded data removed]",
      "text/plain": [
       "<Figure size 432x288 with 1 Axes>"
      ]
     },
     "metadata": {
      "needs_background": "light"
     },
     "output_type": "display_data"
    }
   ],
   "source": [
    "from sklearn.svm import SVC\n",
    "from sklearn.metrics import roc_curve, auc\n",
    "from sklearn.model_selection import train_test_split\n",
    "import matplotlib.pyplot as plt\n",
    "\n",
    "# create the feature matrix X and target variable y\n",
    "#X = df.drop('up', axis=1)\n",
    "#y = df['up']\n",
    "\n",
    "# split the data into training and testing sets\n",
    "X_train, X_test, y_train, y_test = train_test_split(X, y, test_size=0.2, random_state=42)\n",
    "\n",
    "# create the SVM classifier and fit it to the training data\n",
    "svm = SVC(probability=True)\n",
    "svm.fit(X_train, y_train)\n",
    "\n",
    "# predict probabilities of positive class for the testing data\n",
    "y_prob = svm.predict_proba(X_test)[:,1]\n",
    "\n",
    "# calculate the false positive rate (fpr), true positive rate (tpr), and threshold values for different probability thresholds\n",
    "fpr, tpr, thresholds = roc_curve(y_test, y_prob)\n",
    "\n",
    "# calculate the area under the ROC curve (AUC)\n",
    "roc_auc = auc(fpr, tpr)\n",
    "\n",
    "# plot the ROC curve\n",
    "plt.plot(fpr, tpr, color='darkorange', lw=2, label='ROC curve (AUC = %0.2f)' % roc_auc)\n",
    "plt.plot([0, 1], [0, 1], color='navy', lw=2, linestyle='--')\n",
    "plt.xlim([0.0, 1.0])\n",
    "plt.ylim([0.0, 1.05])\n",
    "plt.xlabel('False Positive Rate')\n",
    "plt.ylabel('True Positive Rate')\n",
    "plt.title('Receiver operating characteristic (ROC) curve')\n",
    "plt.legend(loc=\"lower right\")\n",
    "plt.show()\n"
   ]
  },
  {
   "cell_type": "code",
   "execution_count": 176,
   "id": "08e546bd",
   "metadata": {
    "scrolled": true
   },
   "outputs": [
    {
     "data": {
      "image/png": "[encoded data removed]",
      "text/plain": [
       "<Figure size 720x576 with 1 Axes>"
      ]
     },
     "metadata": {
      "needs_background": "light"
     },
     "output_type": "display_data"
    }
   ],
   "source": [
    "from sklearn.metrics import roc_curve, auc\n",
    "from sklearn.tree import DecisionTreeClassifier\n",
    "from sklearn.linear_model import LogisticRegression\n",
    "from sklearn.svm import SVC\n",
    "from sklearn.model_selection import train_test_split\n",
    "import matplotlib.pyplot as plt\n",
    "\n",
    "\n",
    "\n",
    "# create the feature matrix X and target variable y\n",
    "#X = df.drop('up', axis=1)\n",
    "#y = df['up']\n",
    "\n",
    "# split the data into training and testing sets\n",
    "X_train, X_test, y_train, y_test = train_test_split(X, y, test_size=0.2, random_state=42)\n",
    "\n",
    "# create the classifiers\n",
    "classifiers = [\n",
    "    DecisionTreeClassifier(),\n",
    "    LogisticRegression(),\n",
    "    SVC(probability=True)\n",
    "]\n",
    "\n",
    "# create a list of labels for the classifiers\n",
    "labels = [\n",
    "    'Decision Tree',\n",
    "    'Logistic Regression',\n",
    "    'SVM'\n",
    "]\n",
    "\n",
    "# iterate over the classifiers and plot the ROC curve\n",
    "fig, ax = plt.subplots(figsize=(10,8))\n",
    "\n",
    "for clf, label in zip(classifiers, labels):\n",
    "    clf.fit(X_train, y_train)\n",
    "    y_pred_prob = clf.predict_proba(X_test)[:, 1]\n",
    "    fpr, tpr, thresholds = roc_curve(y_test, y_pred_prob)\n",
    "    roc_auc = auc(fpr, tpr)\n",
    "    ax.plot(fpr, tpr, label=f'{label} (AUC = {roc_auc:.2f})')\n",
    "\n",
    "# add the legend, title, and axis labels\n",
    "ax.legend(loc='lower right')\n",
    "ax.set_title('Receiver Operating Characteristic (ROC) Curve')\n",
    "ax.set_xlabel('False Positive Rate')\n",
    "ax.set_ylabel('True Positive Rate')\n",
    "plt.show()\n"
   ]
  },
  {
   "cell_type": "code",
   "execution_count": 167,
   "id": "d12446ae",
   "metadata": {},
   "outputs": [
    {
     "name": "stdout",
     "output_type": "stream",
     "text": [
      "Accuracy: 0.7333333333333333\n",
      "Precision: [0.625      0.85714286]\n",
      "Recall: [0.83333333 0.66666667]\n",
      "F1 Score: [0.71428571 0.75      ]\n",
      "Confusion Matrix:\n",
      "                 Predicted\n",
      "           Negative Positive\n",
      "Actual Negative 5       1\n",
      "       Positive 3       6\n"
     ]
    }
   ],
   "source": [
    "import pandas as pd\n",
    "import numpy as np\n",
    "from sklearn.model_selection import train_test_split\n",
    "from sklearn.tree import DecisionTreeClassifier\n",
    "from sklearn.metrics import accuracy_score, precision_recall_fscore_support, confusion_matrix\n",
    "\n",
    "# Assuming df_merge is a pandas DataFrame\n",
    "\n",
    "# Drop the specified columns from df_merge\n",
    "columns_to_drop = ['Date', 'Adj Close', 'Open', 'High', 'Low', 'Close', 'Volume', 'gainorloss']\n",
    "df1 = df_merge.drop(columns_to_drop, axis=1)\n",
    "\n",
    "# create the feature matrix X and target variable y\n",
    "X = df1.drop('up', axis=1)\n",
    "y = df1['up']\n",
    "\n",
    "# split the data into training and testing sets\n",
    "X_train, X_test, y_train, y_test = train_test_split(X, y, test_size=0.2, random_state=42)\n",
    "\n",
    "# create the decision tree classifier and fit it to the training data\n",
    "dtc = DecisionTreeClassifier()\n",
    "dtc.fit(X_train, y_train)\n",
    "\n",
    "# make predictions on the testing data\n",
    "y_pred = dtc.predict(X_test)\n",
    "\n",
    "# calculate the accuracy score of the predictions\n",
    "accuracy = accuracy_score(y_test, y_pred)\n",
    "print(f\"Accuracy: {accuracy}\")\n",
    "\n",
    "# calculate the precision, recall, and F1 score\n",
    "precision, recall, f1_score, support = precision_recall_fscore_support(y_test, y_pred)\n",
    "\n",
    "print(f\"Precision: {precision}\")\n",
    "print(f\"Recall: {recall}\")\n",
    "print(f\"F1 Score: {f1_score}\")\n",
    "\n",
    "# create the confusion matrix with labels\n",
    "cm = confusion_matrix(y_test, y_pred, labels=np.unique(y))\n",
    "print(\"Confusion Matrix:\")\n",
    "print(\"                 Predicted\")\n",
    "print(\"           Negative Positive\")\n",
    "print(f\"Actual Negative {cm[0, 0]}       {cm[0, 1]}\")\n",
    "print(f\"       Positive {cm[1, 0]}       {cm[1, 1]}\")\n"
   ]
  },
  {
   "cell_type": "code",
   "execution_count": null,
   "id": "774f319c",
   "metadata": {},
   "outputs": [],
   "source": []
  }
 ],
 "metadata": {
  "kernelspec": {
   "display_name": "Python 3 (ipykernel)",
   "language": "python",
   "name": "python3"
  },
  "language_info": {
   "codemirror_mode": {
    "name": "ipython",
    "version": 3
   },
   "file_extension": ".py",
   "mimetype": "text/x-python",
   "name": "python",
   "nbconvert_exporter": "python",
   "pygments_lexer": "ipython3",
   "version": "3.9.12"
  }
 },
 "nbformat": 4,
 "nbformat_minor": 5
}
